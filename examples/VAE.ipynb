{
 "cells": [
  {
   "cell_type": "code",
   "execution_count": 8,
   "metadata": {},
   "outputs": [],
   "source": [
    "import auto_compyute as ac\n",
    "import auto_compyute.nn.functional as F\n",
    "from auto_compyute import nn\n",
    "\n",
    "ac.backends.set_random_seed(0)\n",
    "device = \"cuda\" if ac.backends.gpu_available() else \"cpu\""
   ]
  },
  {
   "cell_type": "code",
   "execution_count": 9,
   "metadata": {},
   "outputs": [],
   "source": [
    "import pandas as pd\n",
    "\n",
    "# download the datasets\n",
    "# train_url = \"https://pjreddie.com/media/files/mnist_train.csv\"\n",
    "train_data = pd.read_csv(\"../data/mnist_train.csv\")\n",
    "train_tensor = ac.tensor(train_data.to_numpy())\n",
    "\n",
    "# test_url = \"https://pjreddie.com/media/files/mnist_test.csv\"\n",
    "test_data = pd.read_csv(\"../data/mnist_test.csv\")\n",
    "test_tensor = ac.tensor(test_data.to_numpy())"
   ]
  },
  {
   "cell_type": "code",
   "execution_count": 10,
   "metadata": {},
   "outputs": [
    {
     "name": "stdout",
     "output_type": "stream",
     "text": [
      "X_train.shape=(47999, 1, 28, 28)\n",
      "X_val.shape=(12000, 1, 28, 28)\n",
      "X_test.shape=(9999, 1, 28, 28)\n"
     ]
    }
   ],
   "source": [
    "# split the data into train, val, test\n",
    "rand_idx = ac.randperm(len(train_tensor))\n",
    "n_train_samples = int(0.8 * len(train_tensor))\n",
    "train_idx, val_idx = rand_idx[:n_train_samples], rand_idx[n_train_samples:]\n",
    "train, val = train_tensor[train_idx], train_tensor[val_idx]\n",
    "\n",
    "# split features from targets\n",
    "X_train = train[:, 1:]\n",
    "X_val = val[:, 1:]\n",
    "X_test = test_tensor[:, 1:]\n",
    "\n",
    "# reshape the data into an image format (B, 784) -> (B, 1, 28, 28)\n",
    "X_train = X_train.view(X_train.shape[0], 1 , 28, -1).float()\n",
    "X_val = X_val.view(X_val.shape[0], 1, 28, -1).float()\n",
    "X_test = X_test.view(X_test.shape[0], 1, 28, -1).float()\n",
    "\n",
    "# scaling\n",
    "def scale(x: ac.Tensor) -> ac.Tensor:\n",
    "    mean_px = x.mean().float()\n",
    "    std_px = x.std().float()\n",
    "    return (x - mean_px) / (std_px)\n",
    "\n",
    "X_train = scale(X_train)\n",
    "X_val = scale(X_val)\n",
    "X_test = scale(X_test)\n",
    "\n",
    "print(f'{X_train.shape=}')\n",
    "print(f'{X_val.shape=}')\n",
    "print(f'{X_test.shape=}')"
   ]
  },
  {
   "cell_type": "code",
   "execution_count": 11,
   "metadata": {},
   "outputs": [],
   "source": [
    "class VAE(nn.Module):\n",
    "    def __init__(self, in_dim, hidden_dim, latent_dim) -> None:\n",
    "        super().__init__()\n",
    "\n",
    "        # encoder\n",
    "        self.encoder = nn.Sequential(\n",
    "            nn.Linear(in_dim, hidden_dim),\n",
    "            nn.LeakyReLU(0.2),\n",
    "            nn.Linear(hidden_dim, latent_dim),\n",
    "            nn.LeakyReLU(0.2)\n",
    "        )\n",
    "\n",
    "        self.mean = nn.Linear(latent_dim, 2)\n",
    "        self.logvar = nn.Linear(latent_dim, 2)\n",
    "\n",
    "        # decoder\n",
    "        self.decoder = nn.Sequential(\n",
    "            nn.Linear(2, latent_dim),\n",
    "            nn.LeakyReLU(0.2),\n",
    "            nn.Linear(latent_dim, hidden_dim),\n",
    "            nn.LeakyReLU(0.2),\n",
    "            nn.Linear(hidden_dim, in_dim),\n",
    "            nn.Sigmoid()\n",
    "        )\n",
    "\n",
    "    def encode(self, x):\n",
    "        x = self.encoder(x)\n",
    "        return self.mean(x), self.logvar(x)\n",
    "\n",
    "    def reparameterization(self, mean, var):\n",
    "        epsilon = ac.randn(*var.shape, dtype=var.dtype, device=var.device)     \n",
    "        z = mean + var * epsilon\n",
    "        return z\n",
    "\n",
    "    def decode(self, x):\n",
    "        return self.decoder(x)\n",
    "\n",
    "    def forward(self, x):\n",
    "        mean, logvar = self.encode(x)\n",
    "        z = self.reparameterization(mean, logvar)\n",
    "        x_hat = self.decode(z)\n",
    "        return x_hat, mean, logvar\n",
    "\n",
    "model = VAE(784, 256, 128)\n",
    "model.to(device)"
   ]
  },
  {
   "cell_type": "code",
   "execution_count": null,
   "metadata": {},
   "outputs": [],
   "source": []
  },
  {
   "cell_type": "code",
   "execution_count": 12,
   "metadata": {},
   "outputs": [],
   "source": [
    "batch_size = 32\n",
    "train_dl = nn.Dataloader((X_train,), batch_size=batch_size, device=device, drop_remaining=True)\n",
    "optimizer = nn.optimizers.Adam(model.parameters(), learning_rate=1e-3)"
   ]
  },
  {
   "cell_type": "code",
   "execution_count": null,
   "metadata": {},
   "outputs": [],
   "source": [
    "def loss_function(x, x_hat, mean, log_var):\n",
    "    reproduction_loss = F.bce_loss(x_hat, x, reduction='sum')\n",
    "    KLD = - 0.5 * (1 + log_var - mean.pow(2) - log_var.exp()).sum()\n",
    "\n",
    "    return reproduction_loss + KLD"
   ]
  },
  {
   "cell_type": "code",
   "execution_count": null,
   "metadata": {},
   "outputs": [],
   "source": [
    "def train(model, optimizer, epochs, device):\n",
    "    model.train()\n",
    "    for epoch in range(epochs):\n",
    "        overall_loss = 0\n",
    "        for batch_idx, (x,) in enumerate(train_dl()):\n",
    "            x = x.view(batch_size, -1).to(device)\n",
    "\n",
    "            optimizer.zero_grad()\n",
    "\n",
    "            x_hat, mean, log_var = model(x)\n",
    "            loss = loss_function(x, x_hat, mean, log_var)\n",
    "            \n",
    "            overall_loss += loss.item()\n",
    "            \n",
    "            loss.backward()\n",
    "            optimizer.step()\n",
    "\n",
    "        print(\"\\tEpoch\", epoch + 1, \"\\tAverage Loss: \", overall_loss/(batch_idx*batch_size))\n",
    "    return overall_loss\n",
    "\n",
    "train(model, optimizer, epochs=50, device=device)"
   ]
  }
 ],
 "metadata": {
  "kernelspec": {
   "display_name": ".venv",
   "language": "python",
   "name": "python3"
  },
  "language_info": {
   "codemirror_mode": {
    "name": "ipython",
    "version": 3
   },
   "file_extension": ".py",
   "mimetype": "text/x-python",
   "name": "python",
   "nbconvert_exporter": "python",
   "pygments_lexer": "ipython3",
   "version": "3.12.8"
  }
 },
 "nbformat": 4,
 "nbformat_minor": 2
}

{
 "cells": [
  {
   "cell_type": "markdown",
   "metadata": {},
   "source": [
    "https://www.tensorflow.org/tutorials/generative/cvae"
   ]
  },
  {
   "cell_type": "code",
   "execution_count": null,
   "metadata": {},
   "outputs": [],
   "source": [
    "from typing import Optional\n",
    "\n",
    "import auto_compyute as ac\n",
    "from auto_compyute import Array  \n",
    "import auto_compyute.nn.functional as F\n",
    "from auto_compyute import nn\n",
    "\n",
    "ac.backends.set_random_seed(0)\n",
    "device = \"cuda\" if ac.backends.gpu_available() else \"cpu\""
   ]
  },
  {
   "cell_type": "code",
   "execution_count": null,
   "metadata": {},
   "outputs": [],
   "source": [
    "import pandas as pd\n",
    "\n",
    "# download the datasets\n",
    "# train_url = \"https://pjreddie.com/media/files/mnist_train.csv\"\n",
    "train_images = pd.read_csv(\"../data/mnist_train.csv\", header=None)\n",
    "train_images = ac.array(train_images.to_numpy())[:, 1:]\n",
    "\n",
    "# test_url = \"https://pjreddie.com/media/files/mnist_test.csv\"\n",
    "test_images = pd.read_csv(\"../data/mnist_test.csv\", header=None)\n",
    "test_images = ac.array(test_images.to_numpy())[:, 1:]"
   ]
  },
  {
   "cell_type": "code",
   "execution_count": null,
   "metadata": {},
   "outputs": [],
   "source": [
    "def preprocess_images(images: Array):\n",
    "    images = images.view(images.shape[0], 1, 28, 28) / 255.0\n",
    "    return ac.where(images > .5, 1.0, 0.0).float()\n",
    "\n",
    "train_images = preprocess_images(train_images)\n",
    "test_images = preprocess_images(test_images)"
   ]
  },
  {
   "cell_type": "code",
   "execution_count": null,
   "metadata": {},
   "outputs": [],
   "source": [
    "batch_size = 256\n",
    "train_dl = nn.Dataloader((train_images,), batch_size=batch_size, device=device)\n",
    "test_dl = nn.Dataloader((test_images,), batch_size=batch_size, device=device)"
   ]
  },
  {
   "cell_type": "code",
   "execution_count": null,
   "metadata": {},
   "outputs": [],
   "source": [
    "class CVAE(nn.Module):\n",
    "    \"\"\"Convolutional variational autoencoder.\"\"\"\n",
    "\n",
    "    def __init__(self, latent_dim) -> None:\n",
    "        super().__init__()\n",
    "        self.latent_dim = latent_dim\n",
    "\n",
    "        self.encoder = nn.Sequential(\n",
    "            nn.Conv2D(1, 32, kernel_size=3, stride=2), nn.ReLU(),\n",
    "            nn.Conv2D(32, 64, kernel_size=3, stride=2), nn.ReLU(),\n",
    "            nn.Flatten(),\n",
    "            nn.Linear(2304, latent_dim + latent_dim)\n",
    "        )\n",
    "\n",
    "        self.decoder = nn.Sequential(\n",
    "            nn.Linear(latent_dim, 32*7*7), nn.ReLU(),\n",
    "            nn.Reshape((32, 7, 7)),\n",
    "            nn.ConvTranspose2D(32, 64, kernel_size=3, stride=2, padding=1, output_padding=1), nn.ReLU(),\n",
    "            nn.ConvTranspose2D(64, 32, kernel_size=3, stride=2, padding=1, output_padding=1), nn.ReLU(),\n",
    "            nn.ConvTranspose2D(32, 1, kernel_size=3, stride=1, padding=1)\n",
    "        )\n",
    "\n",
    "    def sample(self, eps: Optional[Array] = None) -> Array:\n",
    "        if eps is None:\n",
    "            eps = ac.randn(100, self.latent_dim).to(self.device)\n",
    "        return self.decode(eps, apply_sigmoid=True)\n",
    "\n",
    "    def encode(self, x: Array) -> tuple[Array, Array]:\n",
    "        mean, logvar = self.encoder(x).split(2, dim=1)\n",
    "        return mean, logvar\n",
    "\n",
    "    def reparameterize(self, mean: Array, logvar: Array) -> Array:\n",
    "        eps = ac.randn_like(mean)\n",
    "        return eps * (logvar * 0.5).exp() + mean\n",
    "\n",
    "    def decode(self, z: Array, apply_sigmoid: bool = False) -> Array:\n",
    "        logits = self.decoder(z)\n",
    "        if apply_sigmoid:\n",
    "            probs = F.sigmoid(logits)\n",
    "            return probs\n",
    "        return logits\n",
    "    \n",
    "    def forward(self, x: Array) -> Array:\n",
    "        pass"
   ]
  },
  {
   "cell_type": "markdown",
   "metadata": {},
   "source": [
    "https://www.tensorflow.org/tutorials/generative/cvae"
   ]
  },
  {
   "cell_type": "code",
   "execution_count": null,
   "metadata": {},
   "outputs": [],
   "source": [
    "epochs = 10\n",
    "latent_dim = 2\n",
    "num_examples_to_generate = 16\n",
    "\n",
    "random_vector_for_generation = ac.randn(num_examples_to_generate, latent_dim).to(device)\n",
    "model = CVAE(latent_dim).to(device)"
   ]
  },
  {
   "cell_type": "code",
   "execution_count": null,
   "metadata": {},
   "outputs": [],
   "source": [
    "import math\n",
    "\n",
    "optimizer = nn.optimizers.Adam(model.parameters(), learning_rate=1e-4)\n",
    "\n",
    "\n",
    "def log_normal_pdf(sample: Array, mean: Array | float, logvar: Array | float, dim=1):\n",
    "    log2pi = math.log(2.0 * math.pi)\n",
    "    return (-0.5 * ((sample - mean) ** 2.0 * ac.array(-logvar).exp() + logvar + log2pi)).sum(dim)\n",
    "\n",
    "\n",
    "def compute_loss(model, x):\n",
    "    mean, logvar = model.encode(x)\n",
    "    z = model.reparameterize(mean, logvar)\n",
    "    x_logit = model.decode(z)\n",
    "\n",
    "    logpx_z = -F.bce_loss(x_logit, x, reduction=\"sum\")\n",
    "    logpz = log_normal_pdf(z, 0., 0.)\n",
    "    logqz_x = log_normal_pdf(z, mean, logvar)\n",
    "    return -(logpx_z + logpz - logqz_x).mean()\n",
    "\n",
    "\n",
    "def train_step(model: nn.Module, x: Array, optimizer: nn.optimizers.Optimizer):\n",
    "    model.train()\n",
    "    loss = compute_loss(model, x)\n",
    "    loss.backward()\n",
    "    optimizer.update_params()\n",
    "    optimizer.reset_param_grads()"
   ]
  },
  {
   "cell_type": "code",
   "execution_count": null,
   "metadata": {},
   "outputs": [],
   "source": [
    "import matplotlib.pyplot as plt\n",
    "\n",
    "def generate_and_save_images(model, epoch, test_sample):\n",
    "    mean, logvar = model.encode(test_sample.to(device))\n",
    "    z = model.reparameterize(mean, logvar)\n",
    "    predictions = model.sample(z)\n",
    "    fig = plt.figure(figsize=(4, 4))\n",
    "\n",
    "    print(predictions.shape)\n",
    "\n",
    "    for i in range(predictions.shape[0]):\n",
    "        plt.subplot(4, 4, i + 1)\n",
    "        plt.imshow(predictions[i, 0, :, :].cpu().data, cmap='gray')\n",
    "        plt.axis('off')\n",
    "        \n",
    "    plt.show()"
   ]
  },
  {
   "cell_type": "code",
   "execution_count": null,
   "metadata": {},
   "outputs": [],
   "source": [
    "# Pick a sample of the test set for generating output images\n",
    "assert batch_size >= num_examples_to_generate\n",
    "test_sample = test_images[0:num_examples_to_generate, :, :, :]\n",
    "\n",
    "generate_and_save_images(model, 0, test_sample)"
   ]
  },
  {
   "cell_type": "code",
   "execution_count": null,
   "metadata": {},
   "outputs": [],
   "source": [
    "import time\n",
    "from IPython import display\n",
    "\n",
    "for epoch in range(1, epochs + 1):\n",
    "    start_time = time.time()\n",
    "    for train_x, in train_dl():\n",
    "        train_step(model, train_x, optimizer)\n",
    "    end_time = time.time()\n",
    "\n",
    "    loss = 0.0\n",
    "    model.eval()\n",
    "    with ac.no_autograd_tracing(): \n",
    "        for test_x, in test_dl():\n",
    "            loss += compute_loss(model, test_x).item()\n",
    "        elbo = -(loss / len(test_dl))\n",
    "    display.clear_output(wait=False)\n",
    "    print(f\"Epoch: {epoch}, Test set ELBO: {elbo:.2f}, time elapse for current epoch: {end_time - start_time:.2f} s\")\n",
    "    generate_and_save_images(model, epoch, test_sample)"
   ]
  }
 ],
 "metadata": {
  "kernelspec": {
   "display_name": ".venv",
   "language": "python",
   "name": "python3"
  },
  "language_info": {
   "codemirror_mode": {
    "name": "ipython",
    "version": 3
   },
   "file_extension": ".py",
   "mimetype": "text/x-python",
   "name": "python",
   "nbconvert_exporter": "python",
   "pygments_lexer": "ipython3",
   "version": "3.12.8"
  }
 },
 "nbformat": 4,
 "nbformat_minor": 2
}

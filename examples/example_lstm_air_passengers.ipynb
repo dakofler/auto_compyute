{
 "cells": [
  {
   "cell_type": "markdown",
   "metadata": {},
   "source": [
    "# LSTM: Air Passengers\n",
    "\n",
    "based on https://github.com/mikel-brostrom/flight-passengers-prediction-LSTM/blob/master/flight_passengers_prediction_LSTM.ipynb\n",
    "\n",
    "This example features training a LSTM model on the air passengers dataset."
   ]
  },
  {
   "cell_type": "code",
   "execution_count": null,
   "metadata": {},
   "outputs": [],
   "source": [
    "! pip install -q matplotlib pandas"
   ]
  },
  {
   "cell_type": "code",
   "execution_count": null,
   "metadata": {},
   "outputs": [],
   "source": [
    "import auto_compyute as ac\n",
    "import auto_compyute.nn.functional as F"
   ]
  },
  {
   "cell_type": "markdown",
   "metadata": {},
   "source": [
    "## Prepare Data"
   ]
  },
  {
   "cell_type": "code",
   "execution_count": null,
   "metadata": {},
   "outputs": [],
   "source": [
    "import pandas as pd\n",
    "\n",
    "# download the dataset\n",
    "url = \"https://raw.githubusercontent.com/jbrownlee/Datasets/master/airline-passengers.csv\"\n",
    "data = pd.read_csv(url)\n",
    "tensor = ac.tensor(data.iloc[:,1].values).float()"
   ]
  },
  {
   "cell_type": "code",
   "execution_count": null,
   "metadata": {},
   "outputs": [],
   "source": [
    "def min_max_scaler(x, low, high, dim=None):\n",
    "    x_min, x_max = x.min(dim), x.max(dim)\n",
    "    return (x - x_min) * (high - low) / (x_max - x_min) + low"
   ]
  },
  {
   "cell_type": "code",
   "execution_count": null,
   "metadata": {},
   "outputs": [],
   "source": [
    "# scale values\n",
    "scaled_tensor = min_max_scaler(tensor, -1, 1)\n",
    "\n",
    "# save values for inverse transformation\n",
    "train_max = tensor.max().item()\n",
    "train_min = tensor.min().item()\n",
    "\n",
    "# apply a sliding window\n",
    "lookback = 4\n",
    "windowed_tensor = ac.stack(*[scaled_tensor[i:i+lookback+1] for i in range(len(scaled_tensor) - lookback)])\n",
    "\n",
    "x = windowed_tensor[:, :-1, None]\n",
    "y = windowed_tensor[:, -1, None]\n",
    "\n",
    "# create train and test splits\n",
    "train_size = int(len(y) * 0.4)\n",
    "X_train = x[:train_size]\n",
    "y_train = y[:train_size]\n",
    "\n",
    "print(f\"{x.shape=}\")\n",
    "print(f\"{y.shape=}\")\n",
    "print(f\"{X_train.shape=}\")\n",
    "print(f\"{y_train.shape=}\")"
   ]
  },
  {
   "cell_type": "markdown",
   "metadata": {},
   "source": [
    "## Build the Neural Network"
   ]
  },
  {
   "cell_type": "code",
   "execution_count": null,
   "metadata": {},
   "outputs": [],
   "source": [
    "from auto_compyute import nn\n",
    "\n",
    "# B = batch size\n",
    "\n",
    "model = nn.Sequential(\n",
    "    nn.LSTM(1, 2, return_seq=False),  # out: (B, 2)\n",
    "    nn.Linear(2, 1)                   # out: (B, 1)\n",
    ")"
   ]
  },
  {
   "cell_type": "markdown",
   "metadata": {},
   "source": [
    "## Training"
   ]
  },
  {
   "cell_type": "code",
   "execution_count": null,
   "metadata": {},
   "outputs": [],
   "source": [
    "epochs = 1000\n",
    "optim = nn.optimizers.Adam(model.parameters())\n",
    "\n",
    "for e in range(1, epochs + 1):\n",
    "\n",
    "    # training\n",
    "    model.train()\n",
    "    optim.reset_param_grads()\n",
    "    F.mse_loss(model(X_train), y_train).backward()\n",
    "    optim.update_params()  "
   ]
  },
  {
   "cell_type": "markdown",
   "metadata": {},
   "source": [
    "## Evaluate Model"
   ]
  },
  {
   "cell_type": "code",
   "execution_count": null,
   "metadata": {},
   "outputs": [],
   "source": [
    "import matplotlib.pyplot as plt\n",
    "\n",
    "model.eval()\n",
    "with ac.no_autograd_tracing():\n",
    "    y_pred = model(x)\n",
    "    y_pred_scaled = min_max_scaler(y_pred, low=train_min, high=train_max)  # rescale outputs to the original scale\n",
    "    y_scaled = min_max_scaler(y, low=train_min, high=train_max)  # rescale outputs to the original scale\n",
    "\n",
    "plt.axvline(x=train_size, c='r', linestyle='--', label='right limit of GT used')\n",
    "plt.plot(y_scaled.data, label='GT')\n",
    "plt.plot(y_pred_scaled.data, label='predictions')\n",
    "plt.suptitle('Time-Series Prediction')\n",
    "plt.legend()\n",
    "plt.show()"
   ]
  }
 ],
 "metadata": {
  "kernelspec": {
   "display_name": ".venv",
   "language": "python",
   "name": "python3"
  },
  "language_info": {
   "codemirror_mode": {
    "name": "ipython",
    "version": 3
   },
   "file_extension": ".py",
   "mimetype": "text/x-python",
   "name": "python",
   "nbconvert_exporter": "python",
   "pygments_lexer": "ipython3",
   "version": "3.12.9"
  },
  "orig_nbformat": 4
 },
 "nbformat": 4,
 "nbformat_minor": 2
}

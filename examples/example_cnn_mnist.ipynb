{
 "cells": [
  {
   "cell_type": "markdown",
   "metadata": {},
   "source": [
    "# Convolutional Neural Network: MNIST\n",
    "\n",
    "based on https://towardsdatascience.com/going-beyond-99-mnist-handwritten-digits-recognition-cfff96337392\n",
    "\n",
    "This example features training a CNN model on the MNIST dataset. This will be done using predefined neural network building blocks defined in `auto_compute.nn`. This example shows how you would go about training a basic NN."
   ]
  },
  {
   "cell_type": "code",
   "execution_count": null,
   "metadata": {},
   "outputs": [],
   "source": [
    "! pip install -q pandas"
   ]
  },
  {
   "cell_type": "code",
   "execution_count": null,
   "metadata": {},
   "outputs": [],
   "source": [
    "import auto_compyute as ac\n",
    "import auto_compyute.nn.functional as F\n",
    "\n",
    "ac.backends.set_random_seed(0)\n",
    "\n",
    "device = \"cuda\" if ac.backends.gpu_available() else \"cpu\"\n",
    "device"
   ]
  },
  {
   "attachments": {},
   "cell_type": "markdown",
   "metadata": {},
   "source": [
    "## Prepare Data"
   ]
  },
  {
   "cell_type": "code",
   "execution_count": null,
   "metadata": {},
   "outputs": [],
   "source": [
    "import pandas as pd\n",
    "\n",
    "# download the datasets, this might take a few seconds\n",
    "train_url = \"https://pjreddie.com/media/files/mnist_train.csv\"\n",
    "train_data = pd.read_csv(train_url, header=None)\n",
    "train_tensor = ac.tensor(train_data.to_numpy())\n",
    "\n",
    "test_url = \"https://pjreddie.com/media/files/mnist_test.csv\"\n",
    "test_data = pd.read_csv(test_url, header=None)\n",
    "test = ac.tensor(test_data.to_numpy())\n",
    "\n",
    "# split the data into train, val, test\n",
    "idx = ac.randperm(len(train_tensor))\n",
    "n = int(0.8 * len(train_tensor))\n",
    "train, val = train_tensor[idx[:n]], train_tensor[idx[n:]]\n",
    "\n",
    "# split features from targets\n",
    "X_train, y_train = train[:, 1:], train[:, 0].int()\n",
    "X_val, y_val = val[:, 1:], val[:, 0].int()\n",
    "X_test, y_test = test[:, 1:], test[:, 0].int()\n",
    "\n",
    "# reshape the data into an image format (B, 784) -> (B, 1, 28, 28)\n",
    "X_train = X_train.view(X_train.shape[0], 1 , 28, -1).float()\n",
    "X_val = X_val.view(X_val.shape[0], 1, 28, -1).float()\n",
    "X_test = X_test.view(X_test.shape[0], 1, 28, -1).float()\n",
    "\n",
    "# scaling\n",
    "def scale(x: ac.Tensor) -> ac.Tensor:\n",
    "    return (x - x.mean()) / x.std()\n",
    "\n",
    "X_train = scale(X_train)\n",
    "X_val = scale(X_val)\n",
    "X_test = scale(X_test)\n",
    "\n",
    "print(f'{X_train.shape=}')\n",
    "print(f'{y_train.shape=}')\n",
    "print(f'{X_val.shape=}')\n",
    "print(f'{y_val.shape=}')\n",
    "print(f'{X_test.shape=}')\n",
    "print(f'{y_test.shape=}')"
   ]
  },
  {
   "attachments": {},
   "cell_type": "markdown",
   "metadata": {},
   "source": [
    "## Build the Neural Network"
   ]
  },
  {
   "cell_type": "code",
   "execution_count": null,
   "metadata": {},
   "outputs": [],
   "source": [
    "from auto_compyute import nn\n",
    "\n",
    "# B = batch size\n",
    "\n",
    "model = nn.Sequential(\n",
    "    nn.Conv2D(1, 32, 5), nn.ReLU(),                                                 # out: (B, 32, 24, 24)\n",
    "    nn.Conv2D(32, 32, 5, bias=False), nn.Batchnorm(32), nn.ReLU(),                  # out: (B, 32, 20, 20)\n",
    "    nn.MaxPooling2D(2), nn.Dropout(0.25),                                           # out: (B, 32, 10, 10)\n",
    "    \n",
    "    nn.Conv2D(32, 64, 3), nn.ReLU(),                                                # out: (B, 64, 8, 8)\n",
    "    nn.Conv2D(64, 64, 3, bias=False), nn.Batchnorm(64), nn.ReLU(),                  # out: (B, 64, 6, 6)\n",
    "    nn.MaxPooling2D(2), nn.Dropout(0.25),                                           # out: (B, 64, 3, 3)\n",
    "\n",
    "    nn.Flatten(),                                                                   # out: (B, 64*3*3)\n",
    "    nn.Linear(64*3*3, 256, bias=False), nn.Batchnorm(256), nn.ReLU(),               # out: (B, 256)\n",
    "    nn.Linear(256, 128, bias=False), nn.Batchnorm(128), nn.ReLU(),                  # out: (B, 128)\n",
    "    nn.Linear(128, 84, bias=False), nn.Batchnorm(84), nn.ReLU(), nn.Dropout(0.25),  # out: (B, 84)\n",
    "    nn.Linear(84, 10),                                                              # out: (B, 10)\n",
    ").to(device)"
   ]
  },
  {
   "attachments": {},
   "cell_type": "markdown",
   "metadata": {},
   "source": [
    "## Training"
   ]
  },
  {
   "cell_type": "code",
   "execution_count": null,
   "metadata": {},
   "outputs": [],
   "source": [
    "batch_size = 256\n",
    "train_loader = nn.Dataloader((X_train, y_train), batch_size, device, shuffle_data=True, drop_remaining=True)\n",
    "train_steps = len(train_loader)\n",
    "val_loader = nn.Dataloader((X_val, y_val), batch_size, device)\n",
    "optim = nn.optimizers.Adam(model.parameters())"
   ]
  },
  {
   "cell_type": "code",
   "execution_count": null,
   "metadata": {},
   "outputs": [],
   "source": [
    "def accuracy(y_pred, y_true):\n",
    "    return (y_pred.argmax(-1) == y_true).mean()"
   ]
  },
  {
   "cell_type": "code",
   "execution_count": null,
   "metadata": {},
   "outputs": [],
   "source": [
    "import time\n",
    "\n",
    "epochs = 5\n",
    "\n",
    "for e in range(1, epochs + 1):\n",
    "\n",
    "    # training\n",
    "    model.train()\n",
    "    dt = time.perf_counter()\n",
    "    for step, (x, y) in enumerate(train_loader(), start=1):\n",
    "        print(f\"step {step}/{train_steps}\", end=\"\\r\")\n",
    "        optim.reset_param_grads()\n",
    "        F.cross_entropy_loss(model(x), y).backward()\n",
    "        optim.update_params()\n",
    "    dt = time.perf_counter() - dt\n",
    "\n",
    "    # validation\n",
    "    model.eval()\n",
    "    val_loss, val_acc = 0.0, 0.0\n",
    "    with ac.no_autograd_tracking():\n",
    "        for x, y in val_loader():\n",
    "            y_pred = model(x)\n",
    "            val_loss += F.cross_entropy_loss(y_pred, y).item()\n",
    "            val_acc += accuracy(y_pred, y).item()\n",
    "    val_loss /= len(val_loader)\n",
    "    val_acc /= len(val_loader)\n",
    "\n",
    "    print(f\"epoch {e}/{epochs} | {val_loss=:.4f} | {val_acc=:.4f} | {dt=:.4f}s\")    "
   ]
  }
 ],
 "metadata": {
  "kernelspec": {
   "display_name": ".venv",
   "language": "python",
   "name": "python3"
  },
  "language_info": {
   "codemirror_mode": {
    "name": "ipython",
    "version": 3
   },
   "file_extension": ".py",
   "mimetype": "text/x-python",
   "name": "python",
   "nbconvert_exporter": "python",
   "pygments_lexer": "ipython3",
   "version": "3.12.9"
  }
 },
 "nbformat": 4,
 "nbformat_minor": 2
}

{
 "cells": [
  {
   "cell_type": "markdown",
   "metadata": {},
   "source": [
    "# Minimal MLP from Scratch\n",
    "\n",
    "This example features training an MLP on a pseudo MNIST dataset. It tries to keep it very minimal by not relying on the `Module` base class to show that simply by using tensors alone a model can be trained."
   ]
  },
  {
   "cell_type": "code",
   "execution_count": null,
   "metadata": {},
   "outputs": [],
   "source": [
    "import auto_compyute.nn.functional as F\n",
    "import auto_compyute as ac\n",
    "from auto_compyute.nn.optimizers import Adam\n",
    "\n",
    "ac.set_random_seed(0)"
   ]
  },
  {
   "cell_type": "code",
   "execution_count": null,
   "metadata": {},
   "outputs": [],
   "source": [
    "class MLP:\n",
    "    def __init__(self):\n",
    "        # model parameters have req_grad=True\n",
    "        self.l1 = ac.randn(784, 128, var=1 / 128, req_grad=True)\n",
    "        self.l2 = ac.randn(128, 10, var=1 / 10, req_grad=True)\n",
    "\n",
    "    def __call__(self, x: ac.Tensor) -> ac.Tensor:\n",
    "        x = x.view(4, -1)  # flatten\n",
    "        x = x.dot(self.l1)\n",
    "        x = F.relu(x)\n",
    "        x = x.dot(self.l2)\n",
    "        return x\n",
    "\n",
    "\n",
    "# create model and optim instance\n",
    "model = MLP()\n",
    "optim = Adam([model.l1, model.l2], learning_rate=0.001)\n",
    "\n",
    "# draw graph\n",
    "dummy_data = ac.ones(4, 1, 28, 28, req_grad=True)\n",
    "ac.viz.draw_graph(model(dummy_data))"
   ]
  },
  {
   "cell_type": "code",
   "execution_count": null,
   "metadata": {},
   "outputs": [],
   "source": [
    "# create random data\n",
    "x, y = ac.randn(4, 1, 28, 28), ac.tensor([2, 4, 3, 7])\n",
    "\n",
    "# train the model\n",
    "for i in range(10):\n",
    "    optim.reset_param_grads()\n",
    "    loss = F.cross_entropy_loss(model(x), y)\n",
    "    loss.backward()\n",
    "    optim.update_params()\n",
    "    print(i, loss.item())"
   ]
  }
 ],
 "metadata": {
  "kernelspec": {
   "display_name": ".venv",
   "language": "python",
   "name": "python3"
  },
  "language_info": {
   "codemirror_mode": {
    "name": "ipython",
    "version": 3
   },
   "file_extension": ".py",
   "mimetype": "text/x-python",
   "name": "python",
   "nbconvert_exporter": "python",
   "pygments_lexer": "ipython3",
   "version": "3.12.9"
  }
 },
 "nbformat": 4,
 "nbformat_minor": 2
}

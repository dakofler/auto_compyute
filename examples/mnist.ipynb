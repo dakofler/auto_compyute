{
 "cells": [
  {
   "cell_type": "code",
   "execution_count": null,
   "metadata": {},
   "outputs": [],
   "source": [
    "import auto_compyute as ac\n",
    "import auto_compyute.nn.functional as F\n",
    "from auto_compyute import nn\n",
    "\n",
    "ac.backends.set_random_seed(0)\n",
    "device = ac.cuda if ac.backends.gpu_available() else ac.cpu"
   ]
  },
  {
   "cell_type": "code",
   "execution_count": null,
   "metadata": {},
   "outputs": [],
   "source": [
    "import pandas as pd\n",
    "\n",
    "# download the datasets\n",
    "# train_url = \"https://pjreddie.com/media/files/mnist_train.csv\"\n",
    "train_data = pd.read_csv(\"../data/mnist_train.csv\")\n",
    "train_tensor = ac.tensor(train_data.to_numpy())\n",
    "\n",
    "# test_url = \"https://pjreddie.com/media/files/mnist_test.csv\"\n",
    "test_data = pd.read_csv(\"../data/mnist_test.csv\")\n",
    "test_tensor = ac.tensor(test_data.to_numpy())"
   ]
  },
  {
   "cell_type": "code",
   "execution_count": null,
   "metadata": {},
   "outputs": [],
   "source": [
    "# split the data into train, val, test\n",
    "rand_idx = ac.randperm(len(train_tensor))\n",
    "n_train_samples = int(0.8 * len(train_tensor))\n",
    "train_idx, val_idx = rand_idx[:n_train_samples], rand_idx[n_train_samples:]\n",
    "train, val = train_tensor[train_idx], train_tensor[val_idx]\n",
    "\n",
    "# split features from targets\n",
    "X_train, y_train = train[:, 1:], train[:, 0].as_type(ac.int64)\n",
    "X_val, y_val = val[:, 1:], val[:, 0].as_type(ac.int64)\n",
    "X_test, y_test = test_tensor[:, 1:], test_tensor[:, 0].as_type(ac.int64)\n",
    "\n",
    "# reshape the data into an image format (B, 784) -> (B, 1, 28, 28)\n",
    "X_train = X_train.view((X_train.shape[0], 1 , 28, -1)).as_type(ac.float32)\n",
    "X_val = X_val.view((X_val.shape[0], 1, 28, -1)).as_type(ac.float32)\n",
    "X_test = X_test.view((X_test.shape[0], 1, 28, -1)).as_type(ac.float32)\n",
    "\n",
    "# scaling\n",
    "def scale(x: ac.Tensor) -> ac.Tensor:\n",
    "    mean_px = x.mean().as_type(ac.float32)\n",
    "    std_px = x.std().as_type(ac.float32)\n",
    "    return (x - mean_px) / (std_px)\n",
    "\n",
    "X_train = scale(X_train)\n",
    "X_val = scale(X_val)\n",
    "X_test = scale(X_test)\n",
    "\n",
    "print(f'{X_train.shape=}')\n",
    "print(f'{y_train.shape=}')\n",
    "print(f'{X_val.shape=}')\n",
    "print(f'{y_val.shape=}')\n",
    "print(f'{X_test.shape=}')\n",
    "print(f'{y_test.shape=}')"
   ]
  },
  {
   "cell_type": "code",
   "execution_count": null,
   "metadata": {},
   "outputs": [],
   "source": [
    "model = nn.Sequential(\n",
    "    nn.Conv2D(1, 32, 5), nn.ReLU(),\n",
    "    nn.Conv2D(32, 32, 5, bias=False), nn.Batchnorm(32), nn.ReLU(),\n",
    "    nn.MaxPooling2D(2), nn.Dropout(0.25),\n",
    "    \n",
    "    nn.Conv2D(32, 64, 3), nn.ReLU(),\n",
    "    nn.Conv2D(64, 64, 3, bias=False), nn.Batchnorm(64), nn.ReLU(),\n",
    "    nn.MaxPooling2D(2), nn.Dropout(0.25),\n",
    "\n",
    "    nn.Flatten(),\n",
    "    nn.Linear(576, 256, bias=False), nn.Batchnorm(256), nn.ReLU(),\n",
    "    nn.Linear(256, 128, bias=False), nn.Batchnorm(128), nn.ReLU(),\n",
    "    nn.Linear(128, 84, bias=False), nn.Batchnorm(84), nn.ReLU(), nn.Dropout(0.25),\n",
    "    nn.Linear(84, 10),\n",
    ")\n",
    "\n",
    "model.to(device)"
   ]
  },
  {
   "cell_type": "code",
   "execution_count": null,
   "metadata": {},
   "outputs": [],
   "source": [
    "batch_size = 256\n",
    "train_dl = nn.Dataloader((X_train, y_train), batch_size=batch_size, device=device)\n",
    "val_dl = nn.Dataloader((X_val, y_val), batch_size=batch_size, device=device)\n",
    "train_steps = len(train_dl)"
   ]
  },
  {
   "cell_type": "code",
   "execution_count": null,
   "metadata": {},
   "outputs": [],
   "source": [
    "# loss = F.cross_entropy(model(X_train[:256].to(ac.cuda)), y_train[:256].to(ac.cuda))\n",
    "# ac.autograd.draw_compute_graph(loss)"
   ]
  },
  {
   "cell_type": "code",
   "execution_count": null,
   "metadata": {},
   "outputs": [],
   "source": [
    "epochs = 1\n",
    "lr = 1e-3\n",
    "optim = nn.optimizers.Adam(model.parameters())\n",
    "\n",
    "for e in range(1, epochs + 1):\n",
    "    \n",
    "    # training\n",
    "    model.train()\n",
    "    for s, (x, y) in enumerate(train_dl()):\n",
    "        print(f\"step {s}/{train_steps}\", end=\"\\r\")\n",
    "        F.cross_entropy(model(x), y).backward()\n",
    "        optim.step()\n",
    "        optim.zero_grad()\n",
    "        break\n",
    "    break\n",
    "    \n",
    "    # validiation\n",
    "    model.eval()\n",
    "    val_loss, val_acc = 0, 0\n",
    "    with ac.no_grad():\n",
    "        for x, y in val_dl():\n",
    "            logits = model(x)\n",
    "            val_loss += F.cross_entropy(logits, y).item()\n",
    "            val_acc += (logits.data.argmax(-1) == y.data).mean()\n",
    "    val_loss /= len(val_dl)\n",
    "    val_acc /= len(val_dl)\n",
    "    print(f\"epoch {e}: {val_loss=:.4f} {val_acc=:.2f}\")"
   ]
  }
 ],
 "metadata": {
  "kernelspec": {
   "display_name": ".venv",
   "language": "python",
   "name": "python3"
  },
  "language_info": {
   "codemirror_mode": {
    "name": "ipython",
    "version": 3
   },
   "file_extension": ".py",
   "mimetype": "text/x-python",
   "name": "python",
   "nbconvert_exporter": "python",
   "pygments_lexer": "ipython3",
   "version": "3.12.8"
  }
 },
 "nbformat": 4,
 "nbformat_minor": 2
}
